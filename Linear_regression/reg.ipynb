{
 "cells": [
  {
   "cell_type": "code",
   "execution_count": 2,
   "metadata": {
    "collapsed": true
   },
   "outputs": [],
   "source": [
    "import numpy as np\n",
    "from matplotlib import pyplot as plt\n",
    "%matplotlib inline"
   ]
  },
  {
   "cell_type": "code",
   "execution_count": 3,
   "metadata": {
    "collapsed": true
   },
   "outputs": [],
   "source": [
    "a = \"\"\"4\n",
    "390\n",
    "9\n",
    "580\n",
    "10\n",
    "650\n",
    "14\n",
    "730\n",
    "4\n",
    "410\n",
    "7\n",
    "530\n",
    "12\n",
    "600\n",
    "22\n",
    "790\n",
    "1\n",
    "350\n",
    "3\n",
    "400\n",
    "8\n",
    "590\n",
    "11\n",
    "640\n",
    "5\n",
    "450\n",
    "6\n",
    "520\n",
    "10\n",
    "690\n",
    "11\n",
    "690\n",
    "16\n",
    "770\n",
    "13\n",
    "700\n",
    "13\n",
    "730\n",
    "10\n",
    "640\"\"\""
   ]
  },
  {
   "cell_type": "code",
   "execution_count": 4,
   "metadata": {
    "collapsed": false
   },
   "outputs": [
    {
     "data": {
      "text/plain": [
       "[<matplotlib.lines.Line2D at 0x10cb92710>]"
      ]
     },
     "execution_count": 4,
     "metadata": {},
     "output_type": "execute_result"
    },
    {
     "data": {
      "image/png": "[encoded data removed]",
      "text/plain": [
       "<matplotlib.figure.Figure at 0x10a324210>"
      ]
     },
     "metadata": {},
     "output_type": "display_data"
    }
   ],
   "source": [
    "d = a.split('\\n')\n",
    "x = d[0::2]\n",
    "y = d[1::2]\n",
    "X = np.zeros((len(x), 1))\n",
    "y = np.zeros((len(y),))\n",
    "\n",
    "for ix in range(len(x)):\n",
    "    X[ix, :] = int(x[ix])\n",
    "    y[ix] = int(d[1::2][ix])\n",
    "\n",
    "plt.plot(X[:, 0], y, '*')"
   ]
  },
  {
   "cell_type": "code",
   "execution_count": 5,
   "metadata": {
    "collapsed": false
   },
   "outputs": [
    {
     "name": "stdout",
     "output_type": "stream",
     "text": [
      "(20,) (20,)\n"
     ]
    }
   ],
   "source": [
    "print y.shape,X[:,0].shape"
   ]
  },
  {
   "cell_type": "code",
   "execution_count": null,
   "metadata": {
    "collapsed": true
   },
   "outputs": [],
   "source": []
  },
  {
   "cell_type": "code",
   "execution_count": 6,
   "metadata": {
    "collapsed": true
   },
   "outputs": [],
   "source": [
    "def predict(X,params):\n",
    "    y_pred=[]\n",
    "    for ix in X:\n",
    "        y_pred.append((ix*params).sum())\n",
    "    return np.array(y_pred)\n"
   ]
  },
  {
   "cell_type": "code",
   "execution_count": 7,
   "metadata": {
    "collapsed": true
   },
   "outputs": [],
   "source": [
    "def loss(y_true,y_pred):\n",
    "    return ((y_true-y_pred)**2).sum()"
   ]
  },
  {
   "cell_type": "code",
   "execution_count": 8,
   "metadata": {
    "collapsed": true
   },
   "outputs": [],
   "source": [
    "def cal_dl(x,y,params,alpha):\n",
    "    y_pred=predict(x,params)\n",
    "    dl=[]\n",
    "    for ix in range(params.shape[0]):\n",
    "        err=0.0\n",
    "        for iy in range(x.shape[0]):\n",
    "            err=err+(y_pred[iy]-y[iy])*x[iy,ix]\n",
    "        err=float(err)/y_pred.shape[0]\n",
    "        dl.append(err)\n",
    "    return np.array(dl)"
   ]
  },
  {
   "cell_type": "code",
   "execution_count": 9,
   "metadata": {
    "collapsed": true
   },
   "outputs": [],
   "source": [
    "def update(x,y,params,alpha):\n",
    "    dl=cal_dl(x,y,params,alpha)\n",
    "    for ic in range(params.shape[0]):\n",
    "        params[ic]=params[ic]-alpha*dl[ic]\n",
    "    return params    "
   ]
  },
  {
   "cell_type": "code",
   "execution_count": 10,
   "metadata": {
    "collapsed": true
   },
   "outputs": [],
   "source": [
    "def line(x,y,epochs=10,alpha=0.01):\n",
    "    xx=np.ones((x.shape[0],2))\n",
    "    xx[:,1]=x\n",
    "    params=np.zeros(xx.shape[1])+0.1\n",
    "    loss_history=[]\n",
    "    for i in range(epochs):\n",
    "        params=update(xx,y,params,alpha)\n",
    "        loss_history.append(loss(y,predict(xx,params)))\n",
    "    return predict(xx,params),params,loss_history\n"
   ]
  },
  {
   "cell_type": "code",
   "execution_count": 18,
   "metadata": {
    "collapsed": false
   },
   "outputs": [],
   "source": [
    "a,b,c=line(X[:,0],y,epochs=1000)"
   ]
  },
  {
   "cell_type": "code",
   "execution_count": null,
   "metadata": {
    "collapsed": true
   },
   "outputs": [],
   "source": []
  },
  {
   "cell_type": "code",
   "execution_count": null,
   "metadata": {
    "collapsed": true
   },
   "outputs": [],
   "source": []
  },
  {
   "cell_type": "code",
   "execution_count": null,
   "metadata": {
    "collapsed": true
   },
   "outputs": [],
   "source": []
  },
  {
   "cell_type": "code",
   "execution_count": 19,
   "metadata": {
    "collapsed": false
   },
   "outputs": [
    {
     "data": {
      "text/plain": [
       "[<matplotlib.lines.Line2D at 0x10d9ff290>]"
      ]
     },
     "execution_count": 19,
     "metadata": {},
     "output_type": "execute_result"
    },
    {
     "data": {
      "image/png": "[encoded data removed]",
      "text/plain": [
       "<matplotlib.figure.Figure at 0x10d9ff250>"
      ]
     },
     "metadata": {},
     "output_type": "display_data"
    }
   ],
   "source": [
    "plt.plot(X[:,0],a,color='green')\n",
    "plt.plot(X[:, 0], y, '*',color='cyan')"
   ]
  },
  {
   "cell_type": "code",
   "execution_count": null,
   "metadata": {
    "collapsed": true
   },
   "outputs": [],
   "source": []
  },
  {
   "cell_type": "code",
   "execution_count": null,
   "metadata": {
    "collapsed": true
   },
   "outputs": [],
   "source": []
  },
  {
   "cell_type": "code",
   "execution_count": 20,
   "metadata": {
    "collapsed": false
   },
   "outputs": [
    {
     "data": {
      "text/plain": [
       "[<matplotlib.lines.Line2D at 0x10e02f450>]"
      ]
     },
     "execution_count": 20,
     "metadata": {},
     "output_type": "execute_result"
    },
    {
     "data": {
      "image/png": "[encoded data removed]",
      "text/plain": [
       "<matplotlib.figure.Figure at 0x10df000d0>"
      ]
     },
     "metadata": {},
     "output_type": "display_data"
    }
   ],
   "source": [
    "plt.plot(c,color='cyan')"
   ]
  },
  {
   "cell_type": "code",
   "execution_count": null,
   "metadata": {
    "collapsed": true
   },
   "outputs": [],
   "source": []
  },
  {
   "cell_type": "code",
   "execution_count": null,
   "metadata": {
    "collapsed": true
   },
   "outputs": [],
   "source": []
  }
 ],
 "metadata": {
  "anaconda-cloud": {},
  "kernelspec": {
   "display_name": "Python [default]",
   "language": "python",
   "name": "python2"
  },
  "language_info": {
   "codemirror_mode": {
    "name": "ipython",
    "version": 2
   },
   "file_extension": ".py",
   "mimetype": "text/x-python",
   "name": "python",
   "nbconvert_exporter": "python",
   "pygments_lexer": "ipython2",
   "version": "2.7.12"
  }
 },
 "nbformat": 4,
 "nbformat_minor": 1
}
