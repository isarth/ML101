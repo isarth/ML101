{
 "cells": [
  {
   "cell_type": "code",
   "execution_count": 4,
   "metadata": {
    "collapsed": true
   },
   "outputs": [],
   "source": [
    "import numpy as np\n",
    "from matplotlib import pyplot as plt\n",
    "%matplotlib inline\n",
    "import random"
   ]
  },
  {
   "cell_type": "code",
   "execution_count": 5,
   "metadata": {
    "collapsed": false
   },
   "outputs": [
    {
     "name": "stdout",
     "output_type": "stream",
     "text": [
      "[2 3 1 3 3 1 3 2 2 3 1 3 1 3 2 2 3 2 2 3] [1 2 3 1 1 2 2 3 1 2 1 1 2 1 3 3 2 2 1 3] [1 0 1 1 1 0 1 1 1 1 0 0 0 1 0 0 1 0 1 0]\n"
     ]
    }
   ],
   "source": [
    "set1=[1,2,3]\n",
    "lab_set=[0,1]\n",
    "n_exp=20\n",
    "var1=np.array([random.choice(set1) for ix in range(n_exp)])\n",
    "var2=np.array([random.choice(set1) for ix in range(n_exp)])\n",
    "lab=np.array([random.choice(lab_set) for ix in range(n_exp)])\n",
    "print var1,var2,lab\n",
    "\n"
   ]
  },
  {
   "cell_type": "code",
   "execution_count": null,
   "metadata": {
    "collapsed": true
   },
   "outputs": [],
   "source": []
  },
  {
   "cell_type": "code",
   "execution_count": null,
   "metadata": {
    "collapsed": true
   },
   "outputs": [],
   "source": []
  },
  {
   "cell_type": "code",
   "execution_count": null,
   "metadata": {
    "collapsed": true
   },
   "outputs": [],
   "source": []
  },
  {
   "cell_type": "code",
   "execution_count": null,
   "metadata": {
    "collapsed": true
   },
   "outputs": [],
   "source": [
    "def probability (val,n_sample):\n",
    "    return n_sample\n",
    "\n",
    "    "
   ]
  }
 ],
 "metadata": {
  "kernelspec": {
   "display_name": "Python [default]",
   "language": "python",
   "name": "python2"
  },
  "language_info": {
   "codemirror_mode": {
    "name": "ipython",
    "version": 2
   },
   "file_extension": ".py",
   "mimetype": "text/x-python",
   "name": "python",
   "nbconvert_exporter": "python",
   "pygments_lexer": "ipython2",
   "version": "2.7.12"
  }
 },
 "nbformat": 4,
 "nbformat_minor": 1
}
