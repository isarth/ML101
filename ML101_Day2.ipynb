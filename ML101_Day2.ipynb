{
 "cells": [
  {
   "cell_type": "code",
   "execution_count": 4,
   "metadata": {
    "collapsed": true
   },
   "outputs": [],
   "source": [
    "import pandas as pd \n",
    "import numpy as np\n",
    "from matplotlib import pyplot as plt\n",
    "%matplotlib inline\n"
   ]
  },
  {
   "cell_type": "code",
   "execution_count": 5,
   "metadata": {
    "collapsed": true
   },
   "outputs": [],
   "source": [
    "mean_1=[0,0]\n",
    "cov_1=[[1,0],[0,1]]\n",
    "dist_1=np.random.multivariate_normal(mean_1,cov_1,100)\n",
    "\n",
    "mean_2=[2,2]\n",
    "cov_2=[[1,0],[0,1]]\n",
    "dist_2=np.random.multivariate_normal(mean_2,cov_2,100)"
   ]
  },
  {
   "cell_type": "code",
   "execution_count": 6,
   "metadata": {
    "collapsed": false
   },
   "outputs": [
    {
     "data": {
      "image/png": "[encoded data removed]",
      "text/plain": [
       "<matplotlib.figure.Figure at 0x10c88d0d0>"
      ]
     },
     "metadata": {},
     "output_type": "display_data"
    }
   ],
   "source": [
    "plt.scatter(dist_1[:,0],dist_1[:,1])\n",
    "plt.scatter(dist_2[:,0],dist_2[:,1],color='green')\n",
    "plt.show()"
   ]
  },
  {
   "cell_type": "code",
   "execution_count": 7,
   "metadata": {
    "collapsed": false
   },
   "outputs": [
    {
     "name": "stdout",
     "output_type": "stream",
     "text": [
      "(200, 2)\n"
     ]
    }
   ],
   "source": [
    "data=np.zeros((dist_1.shape[0]*2,dist_1.shape[1]))       \n",
    "data[:dist_1.shape[0],:]=dist_1\n",
    "data[dist_1.shape[0]:,:]=dist_2\n",
    "print data.shape              "
   ]
  },
  {
   "cell_type": "code",
   "execution_count": 8,
   "metadata": {
    "collapsed": false
   },
   "outputs": [],
   "source": [
    "labels=np.zeros((dist_1.shape[0]*2,))\n"
   ]
  },
  {
   "cell_type": "code",
   "execution_count": 9,
   "metadata": {
    "collapsed": true
   },
   "outputs": [],
   "source": [
    "labels[dist_1.shape[0]:]=1"
   ]
  },
  {
   "cell_type": "code",
   "execution_count": 10,
   "metadata": {
    "collapsed": false
   },
   "outputs": [
    {
     "name": "stdout",
     "output_type": "stream",
     "text": [
      "1.41421356237\n"
     ]
    }
   ],
   "source": [
    "def dist(x1,x2):\n",
    "    return np.sqrt(sum((x1-x2)**2))\n",
    "print dist(np.array([0,0]),np.array([1,1]))"
   ]
  },
  {
   "cell_type": "code",
   "execution_count": 11,
   "metadata": {
    "collapsed": true
   },
   "outputs": [],
   "source": [
    "def knn(X_train,y_train,X_test,k=5):\n",
    "    y_test=[]\n",
    "    for ix in range(X_test.shape[0]):\n",
    "        distance=[]\n",
    "        for iy in range(X_train.shape[0]):\n",
    "            distance.append((dist(X_test[ix],X_train[iy]),y_train[iy]))\n",
    "        distance.sort()\n",
    "        distance=distance[:k]\n",
    "        # print distance\n",
    "        freq={}\n",
    "        for ic in range(k):\n",
    "            try:\n",
    "                freq[distance[ic][1]]+=1\n",
    "            except:\n",
    "                freq[distance[ic][1]]=1\n",
    "        if (freq[0]>freq[1]):\n",
    "            y_test.append(0)\n",
    "        else:\n",
    "            y_test.append(1)\n",
    "        return y_test    \n",
    "    "
   ]
  },
  {
   "cell_type": "code",
   "execution_count": 12,
   "metadata": {
    "collapsed": false
   },
   "outputs": [
    {
     "data": {
      "text/plain": [
       "[0]"
      ]
     },
     "execution_count": 12,
     "metadata": {},
     "output_type": "execute_result"
    }
   ],
   "source": [
    "x_test=np.array([[0,2]])\n",
    "knn(data,labels,x_test)"
   ]
  },
  {
   "cell_type": "code",
   "execution_count": 30,
   "metadata": {
    "collapsed": false
   },
   "outputs": [],
   "source": [
    "# MNIST data set \n",
    "def knn_mnist(X_train,y_train,X_test,k=5):\n",
    "    n_train=X_train.shape[0]\n",
    "    n_test=X_test.shape[0]\n",
    "    val=[]\n",
    "    for ix in range(n_test):\n",
    "        distance=[]\n",
    "        for iy in range(n_train):\n",
    "            distance.append([dist(X_train[iy],X_test[ix]),y_train[iy]])\n",
    "        distance.sort()\n",
    "        distance=np.array(distance[:k])\n",
    "        unique,neighbours=np.unique(distance[:,1],return_counts=True)\n",
    "        ans=dict(zip(unique,neighbours))\n",
    "        sorted_ans=sorted(ans,key=lambda x:ans[x])\n",
    "        print  sorted_ans[-1]\n",
    "        \n",
    "        \n",
    "            "
   ]
  },
  {
   "cell_type": "code",
   "execution_count": 31,
   "metadata": {
    "collapsed": false
   },
   "outputs": [
    {
     "name": "stdout",
     "output_type": "stream",
     "text": [
      "1.0\n",
      "5.0\n",
      "1.0\n",
      "7.0\n",
      "9.0\n",
      "8.0\n",
      "9.0\n",
      "5.0\n",
      "7.0\n",
      "4.0\n",
      "7.0\n",
      "2.0\n",
      "8.0\n",
      "1.0\n",
      "4.0\n",
      "3.0\n",
      "5.0\n",
      "6.0\n",
      "2.0\n",
      "7.0\n",
      "7.0\n",
      "6.0\n",
      "7.0\n",
      "8.0\n",
      "1.0\n",
      "2.0\n",
      "8.0\n",
      "1.0\n",
      "9.0\n",
      "0.0\n",
      "9.0\n",
      "4.0\n",
      "6.0\n",
      "6.0\n",
      "8.0\n",
      "2.0\n",
      "3.0\n",
      "5.0\n",
      "4.0\n",
      "5.0\n",
      "9.0\n",
      "1.0\n",
      "3.0\n",
      "7.0\n",
      "1.0\n",
      "5.0\n",
      "0.0\n",
      "0.0\n",
      "9.0\n",
      "5.0\n",
      "5.0\n",
      "7.0\n",
      "6.0\n",
      "8.0\n",
      "2.0\n",
      "8.0\n",
      "4.0\n",
      "2.0\n",
      "3.0\n",
      "6.0\n",
      "7.0\n",
      "8.0\n",
      "7.0\n",
      "2.0\n",
      "4.0\n",
      "7.0\n",
      "3.0\n",
      "4.0\n",
      "4.0\n",
      "5.0\n",
      "4.0\n",
      "3.0\n",
      "3.0\n",
      "1.0\n",
      "5.0\n",
      "1.0\n",
      "0.0\n",
      "2.0\n",
      "0.0\n",
      "2.0\n",
      "9.0\n",
      "5.0\n",
      "1.0\n",
      "6.0\n",
      "6.0\n",
      "9.0\n",
      "4.0\n",
      "1.0\n",
      "7.0\n",
      "2.0\n",
      "2.0\n",
      "0.0\n",
      "7.0\n",
      "0.0\n",
      "6.0\n",
      "8.0\n",
      "0.0\n",
      "5.0\n",
      "7.0\n",
      "4.0\n",
      "5.0\n",
      "9.0\n",
      "3.0\n",
      "2.0\n",
      "5.0\n",
      "7.0\n",
      "1.0\n",
      "9.0\n",
      "9.0\n",
      "9.0\n",
      "9.0\n",
      "4.0\n",
      "5.0\n",
      "5.0\n",
      "7.0\n",
      "6.0\n",
      "2.0\n",
      "6.0\n",
      "9.0\n",
      "1.0\n",
      "8.0\n",
      "5.0\n",
      "3.0\n",
      "3.0\n",
      "4.0\n",
      "7.0\n",
      "3.0\n",
      "2.0\n",
      "7.0\n",
      "7.0\n",
      "5.0\n",
      "9.0\n",
      "6.0\n",
      "9.0\n",
      "8.0\n",
      "0.0\n",
      "8.0\n",
      "3.0\n",
      "4.0\n",
      "7.0\n",
      "2.0\n",
      "0.0\n",
      "8.0\n",
      "6.0\n",
      "9.0\n",
      "1.0\n",
      "4.0\n",
      "1.0\n",
      "9.0\n",
      "5.0\n",
      "6.0\n",
      "7.0\n",
      "1.0\n",
      "8.0\n",
      "2.0\n",
      "5.0\n",
      "7.0\n",
      "2.0\n",
      "8.0\n",
      "9.0\n",
      "5.0\n",
      "8.0\n",
      "7.0\n",
      "5.0\n",
      "4.0\n",
      "6.0\n",
      "7.0\n",
      "0.0\n",
      "0.0\n",
      "4.0\n",
      "1.0\n",
      "1.0\n",
      "3.0\n",
      "3.0\n",
      "0.0\n",
      "2.0\n",
      "7.0\n",
      "2.0\n",
      "8.0\n",
      "4.0\n",
      "3.0\n",
      "1.0\n",
      "6.0\n",
      "2.0\n",
      "9.0\n",
      "1.0\n",
      "4.0\n",
      "7.0\n",
      "9.0\n",
      "9.0\n",
      "1.0\n",
      "0.0\n",
      "1.0\n",
      "1.0\n",
      "6.0\n",
      "6.0\n",
      "9.0\n",
      "2.0\n",
      "1.0\n",
      "5.0\n",
      "6.0\n",
      "6.0\n",
      "6.0\n",
      "9.0\n",
      "8.0\n",
      "7.0\n",
      "2.0\n",
      "8.0\n",
      "5.0\n",
      "1.0\n",
      "2.0\n",
      "9.0\n",
      "0.0\n",
      "5.0\n",
      "1.0\n",
      "2.0\n",
      "2.0\n",
      "3.0\n",
      "1.0\n",
      "4.0\n",
      "1.0\n",
      "1.0\n",
      "0.0\n",
      "2.0\n",
      "4.0\n",
      "2.0\n",
      "6.0\n",
      "6.0\n",
      "6.0\n",
      "6.0\n",
      "2.0\n",
      "5.0\n",
      "4.0\n",
      "3.0\n",
      "7.0\n",
      "8.0\n",
      "1.0\n",
      "7.0\n",
      "1.0\n",
      "7.0\n",
      "6.0\n",
      "7.0\n",
      "4.0\n",
      "4.0\n",
      "4.0\n",
      "1.0\n",
      "4.0\n",
      "9.0\n",
      "5.0\n",
      "8.0\n",
      "4.0\n",
      "7.0\n",
      "6.0\n",
      "0.0\n",
      "2.0\n",
      "5.0\n",
      "9.0\n",
      "9.0\n",
      "4.0\n",
      "0.0\n",
      "0.0\n",
      "2.0\n",
      "9.0\n",
      "6.0\n",
      "3.0\n",
      "5.0\n",
      "6.0\n",
      "1.0\n",
      "1.0\n",
      "7.0\n",
      "5.0\n",
      "3.0\n",
      "8.0\n",
      "3.0\n",
      "6.0\n",
      "2.0\n",
      "1.0\n",
      "9.0\n",
      "5.0\n",
      "9.0\n",
      "1.0\n",
      "0.0\n",
      "6.0\n",
      "8.0\n",
      "2.0\n",
      "0.0\n",
      "2.0\n",
      "1.0\n",
      "5.0\n",
      "8.0\n",
      "1.0\n",
      "4.0\n",
      "3.0\n",
      "4.0\n",
      "1.0\n",
      "4.0\n",
      "9.0\n",
      "3.0\n",
      "2.0\n",
      "8.0\n"
     ]
    }
   ],
   "source": [
    "import pandas as pd\n",
    "d=pd.read_csv('/Users/SarthakAnand/Desktop/ml/mnist_data/train.csv')\n",
    "data=d.values\n",
    "X_train =data[:1000,1:]\n",
    "y_train=data[:,0]\n",
    "X_test=data[1000:1300,1:]\n",
    "knn_mnist(X_train,y_train,X_test)\n"
   ]
  },
  {
   "cell_type": "code",
   "execution_count": null,
   "metadata": {
    "collapsed": true
   },
   "outputs": [],
   "source": []
  },
  {
   "cell_type": "code",
   "execution_count": null,
   "metadata": {
    "collapsed": true
   },
   "outputs": [],
   "source": []
  },
  {
   "cell_type": "code",
   "execution_count": null,
   "metadata": {
    "collapsed": true
   },
   "outputs": [],
   "source": []
  },
  {
   "cell_type": "code",
   "execution_count": null,
   "metadata": {
    "collapsed": true
   },
   "outputs": [],
   "source": []
  },
  {
   "cell_type": "code",
   "execution_count": null,
   "metadata": {
    "collapsed": true
   },
   "outputs": [],
   "source": []
  },
  {
   "cell_type": "code",
   "execution_count": null,
   "metadata": {
    "collapsed": true
   },
   "outputs": [],
   "source": []
  },
  {
   "cell_type": "code",
   "execution_count": 16,
   "metadata": {
    "collapsed": false
   },
   "outputs": [
    {
     "name": "stdout",
     "output_type": "stream",
     "text": [
      "None\n"
     ]
    }
   ],
   "source": []
  },
  {
   "cell_type": "code",
   "execution_count": null,
   "metadata": {
    "collapsed": true
   },
   "outputs": [],
   "source": []
  },
  {
   "cell_type": "code",
   "execution_count": null,
   "metadata": {
    "collapsed": true
   },
   "outputs": [],
   "source": []
  },
  {
   "cell_type": "code",
   "execution_count": 15,
   "metadata": {
    "collapsed": false
   },
   "outputs": [
    {
     "data": {
      "text/plain": [
       "[2, 0, 1]"
      ]
     },
     "execution_count": 15,
     "metadata": {},
     "output_type": "execute_result"
    }
   ],
   "source": [
    "a={0:2,2:1,1:3}\n",
    "sorted(a,key=lambda x:a[x])"
   ]
  },
  {
   "cell_type": "code",
   "execution_count": null,
   "metadata": {
    "collapsed": true
   },
   "outputs": [],
   "source": []
  },
  {
   "cell_type": "code",
   "execution_count": null,
   "metadata": {
    "collapsed": true
   },
   "outputs": [],
   "source": []
  },
  {
   "cell_type": "code",
   "execution_count": null,
   "metadata": {
    "collapsed": true
   },
   "outputs": [],
   "source": []
  },
  {
   "cell_type": "code",
   "execution_count": null,
   "metadata": {
    "collapsed": true
   },
   "outputs": [],
   "source": []
  },
  {
   "cell_type": "code",
   "execution_count": null,
   "metadata": {
    "collapsed": true
   },
   "outputs": [],
   "source": []
  },
  {
   "cell_type": "code",
   "execution_count": null,
   "metadata": {
    "collapsed": true
   },
   "outputs": [],
   "source": []
  },
  {
   "cell_type": "code",
   "execution_count": null,
   "metadata": {
    "collapsed": true
   },
   "outputs": [],
   "source": []
  },
  {
   "cell_type": "code",
   "execution_count": null,
   "metadata": {
    "collapsed": true
   },
   "outputs": [],
   "source": []
  },
  {
   "cell_type": "code",
   "execution_count": null,
   "metadata": {
    "collapsed": true
   },
   "outputs": [],
   "source": []
  },
  {
   "cell_type": "code",
   "execution_count": null,
   "metadata": {
    "collapsed": true
   },
   "outputs": [],
   "source": []
  },
  {
   "cell_type": "code",
   "execution_count": null,
   "metadata": {
    "collapsed": true
   },
   "outputs": [],
   "source": []
  },
  {
   "cell_type": "code",
   "execution_count": null,
   "metadata": {
    "collapsed": true
   },
   "outputs": [],
   "source": []
  },
  {
   "cell_type": "code",
   "execution_count": null,
   "metadata": {
    "collapsed": false
   },
   "outputs": [],
   "source": [
    "\n"
   ]
  },
  {
   "cell_type": "code",
   "execution_count": null,
   "metadata": {
    "collapsed": true
   },
   "outputs": [],
   "source": []
  },
  {
   "cell_type": "code",
   "execution_count": null,
   "metadata": {
    "collapsed": true
   },
   "outputs": [],
   "source": []
  },
  {
   "cell_type": "code",
   "execution_count": null,
   "metadata": {
    "collapsed": true
   },
   "outputs": [],
   "source": []
  },
  {
   "cell_type": "code",
   "execution_count": null,
   "metadata": {
    "collapsed": true
   },
   "outputs": [],
   "source": []
  },
  {
   "cell_type": "code",
   "execution_count": null,
   "metadata": {
    "collapsed": true
   },
   "outputs": [],
   "source": []
  },
  {
   "cell_type": "code",
   "execution_count": null,
   "metadata": {
    "collapsed": true
   },
   "outputs": [],
   "source": []
  },
  {
   "cell_type": "code",
   "execution_count": null,
   "metadata": {
    "collapsed": true
   },
   "outputs": [],
   "source": []
  },
  {
   "cell_type": "code",
   "execution_count": null,
   "metadata": {
    "collapsed": true
   },
   "outputs": [],
   "source": []
  },
  {
   "cell_type": "code",
   "execution_count": null,
   "metadata": {
    "collapsed": true
   },
   "outputs": [],
   "source": []
  },
  {
   "cell_type": "code",
   "execution_count": null,
   "metadata": {
    "collapsed": true
   },
   "outputs": [],
   "source": []
  },
  {
   "cell_type": "code",
   "execution_count": null,
   "metadata": {
    "collapsed": true
   },
   "outputs": [],
   "source": []
  },
  {
   "cell_type": "code",
   "execution_count": null,
   "metadata": {
    "collapsed": true
   },
   "outputs": [],
   "source": []
  },
  {
   "cell_type": "code",
   "execution_count": null,
   "metadata": {
    "collapsed": true
   },
   "outputs": [],
   "source": []
  },
  {
   "cell_type": "code",
   "execution_count": null,
   "metadata": {
    "collapsed": true
   },
   "outputs": [],
   "source": []
  }
 ],
 "metadata": {
  "anaconda-cloud": {},
  "kernelspec": {
   "display_name": "Python [default]",
   "language": "python",
   "name": "python2"
  },
  "language_info": {
   "codemirror_mode": {
    "name": "ipython",
    "version": 2
   },
   "file_extension": ".py",
   "mimetype": "text/x-python",
   "name": "python",
   "nbconvert_exporter": "python",
   "pygments_lexer": "ipython2",
   "version": "2.7.12"
  }
 },
 "nbformat": 4,
 "nbformat_minor": 1
}
